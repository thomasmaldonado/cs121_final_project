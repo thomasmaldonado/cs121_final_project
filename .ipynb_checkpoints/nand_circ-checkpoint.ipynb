{
 "cells": [
  {
   "cell_type": "markdown",
   "metadata": {},
   "source": [
    "Class for NAND-CIRC programming language"
   ]
  },
  {
   "cell_type": "code",
   "execution_count": 102,
   "metadata": {},
   "outputs": [],
   "source": [
    "from math import log, floor"
   ]
  },
  {
   "cell_type": "code",
   "execution_count": 103,
   "metadata": {},
   "outputs": [],
   "source": [
    "def int2bin(n, num_bits = None, least_sig_first = True):\n",
    "        if num_bits == None:\n",
    "            if n == 0:\n",
    "                return '0'\n",
    "            else:\n",
    "                num_bits = floor(log(n, 2) + 1)\n",
    "        s = bin(n)[2:]\n",
    "        len_s = len(s)\n",
    "        if len_s > num_bits:\n",
    "            raise Exception('Decimal {} cannot be represented with {} bits'.format(n, num_bits))\n",
    "        elif len_s < num_bits:\n",
    "            s = '0'*(num_bits - len_s) + s\n",
    "        if least_sig_first:\n",
    "            return ''.join(reversed(s))\n",
    "        else:\n",
    "            return s\n",
    "def bin2int(s, least_sig_first = True):\n",
    "    if s == '':\n",
    "        return 0\n",
    "    if not least_sig_first:\n",
    "        s = ''.join(reversed(s))\n",
    "    return int(s[0]) + 2 * bin2int(s[1:])\n",
    "def NAND(a, b):\n",
    "    if a != 0 and a != 1:\n",
    "        raise Exception('NAND input {}, expecting 0 or 1'.format(a))\n",
    "    if b != 0 and b!= 1:\n",
    "        raise Exception('NAND input {}, expecting 0 or 1'.format(b))\n",
    "    return 1 - a * b"
   ]
  },
  {
   "cell_type": "code",
   "execution_count": 104,
   "metadata": {},
   "outputs": [],
   "source": [
    "class NAND_CIRC:\n",
    "    def __init__(self, num_inputs : int, num_outputs : int):\n",
    "        if num_inputs < 1 or num_outputs < 1:\n",
    "            raise Exception('Cannot create nontrivial circuit with {} inputs and {} outputs'.format(num_inputs, num_outputs))\n",
    "        self.num_inputs = num_inputs\n",
    "        self.num_outputs = num_outputs\n",
    "        self.num_working = 0\n",
    "        self.valued_vars = []\n",
    "        for i in range(num_inputs):\n",
    "            self.valued_vars.append('X[{}]'.format(i))\n",
    "        self.program = []\n",
    "        \n",
    "    def allocate(self):\n",
    "        w = 'W[{}]'.format(self.num_working)\n",
    "        self.num_working += 1\n",
    "        return w\n",
    "    \n",
    "    def input_var(self, i):\n",
    "        n = self.num_inputs\n",
    "        if i >= n:\n",
    "            raise Exception('This program only has {} input variables'.format(n))\n",
    "        return 'X[{}]'.format(i)\n",
    "    \n",
    "    def output_var(self, i):\n",
    "        m = self.num_outputs\n",
    "        if i >= m:\n",
    "            raise Exception('This program only has {} output variables'.format(m))\n",
    "        return 'Y[{}]'.format(i)\n",
    "            \n",
    "    def is_w(var):\n",
    "        return var[0] == 'W'\n",
    "    \n",
    "    def is_x(var):\n",
    "        return var[0] == 'X'\n",
    "    \n",
    "    def is_y(var):\n",
    "        return var[0] == 'Y'\n",
    "        \n",
    "    def index(var):\n",
    "        return int(var[2:-1])\n",
    "    \n",
    "    def check_format(var):\n",
    "        if len(var) < 4:\n",
    "            formatted = False\n",
    "        else:\n",
    "            formatted = (var[1] == '[' and var[-1] == ']') and (NAND_CIRC.is_w(var) or NAND_CIRC.is_x(var) or NAND_CIRC.is_y(var))\n",
    "            try:\n",
    "                NAND_CIRC.index(var)\n",
    "            except:\n",
    "                formatted = False\n",
    "        if not formatted:\n",
    "            raise Exception('NAND variable {} is improperly formatted'.format(var))\n",
    "        \n",
    "    def check_index(self, var):\n",
    "        i = NAND_CIRC.index(var)\n",
    "        if NAND_CIRC.is_w(var) and i >= self.num_working:\n",
    "            raise Exception('Program has {} working variables: NAND variable {} is out of range'.format(self.num_working, var))\n",
    "        if NAND_CIRC.is_x(var) and i >= self.num_inputs:\n",
    "            raise Exception('Program has {} input variables: NAND variable {} is out of range'.format(self.num_inputs, var))\n",
    "        if NAND_CIRC.is_y(var) and i >= self.num_outputs:\n",
    "            raise Exception('Program has {} output variables: NAND variable {} is out of range'.format(self.num_outputs, var))\n",
    "        \n",
    "    def check_input(self, inz):\n",
    "        if NAND_CIRC.is_y(inz):\n",
    "            raise Exception('NAND input variable {} cannot be one of the program\\'s output variables'.format(inz))\n",
    "        if inz not in self.valued_vars:\n",
    "            raise Exception('NAND input variable {} is not a function of the program\\'s input variables'.format(inz))\n",
    "    \n",
    "    def check_output(self, out):\n",
    "        if NAND_CIRC.is_x(out):\n",
    "            raise Exception('NAND output variable {} cannot be one of the program\\'s input variables'.format(out))\n",
    "        if out in self.valued_vars:\n",
    "            raise Exception('NAND output variable {} is already the output of another NAND gate'.format(out))\n",
    "        \n",
    "    def NAND(self, out, in0, in1):\n",
    "        triple = (out, in0, in1)\n",
    "        [NAND_CIRC.check_format(z) for z in triple]\n",
    "        [self.check_index(z) for z in triple]\n",
    "        self.check_input(in0)\n",
    "        self.check_input(in1)\n",
    "        self.check_output(out)\n",
    "        self.valued_vars.append(out)\n",
    "        self.program.append(triple)\n",
    "    \n",
    "    def NOT(self, out, in0):\n",
    "        self.NAND(out, in0, in0)\n",
    "    \n",
    "    def AND(self, out, in0, in1):\n",
    "        temp = self.allocate()\n",
    "        self.NAND(temp, in0, in1)\n",
    "        self.NOT(out, temp)\n",
    "    \n",
    "    def OR(self, out, in0, in1):\n",
    "        not_0 = self.allocate()\n",
    "        self.NOT(not_0, in0)\n",
    "        not_1 = self.allocate()\n",
    "        self.NOT(not_1, in1)\n",
    "        self.NAND(out, not_0, not_1)\n",
    "    \n",
    "    def IF(self, out, cond, in0, in1):\n",
    "        notcond = self.allocate()\n",
    "        self.NOT(notcond, cond)\n",
    "        temp_0 = self.allocate()\n",
    "        self.NAND(temp_0, in0, cond)\n",
    "        temp_1 = self.allocate()\n",
    "        self.NAND(temp_1, in1, notcond)\n",
    "        self.NAND(out, temp_0, temp_1)\n",
    "    \n",
    "    def ONE(self, out):\n",
    "        in0 = self.input_var(0)\n",
    "        temp = self.allocate()\n",
    "        self.NOT(temp, in0)\n",
    "        self.NAND(out, temp, in0)\n",
    "    \n",
    "    def ZERO(self, out):\n",
    "        temp = self.allocate()\n",
    "        self.ONE(temp)\n",
    "        self.NOT(out, temp)\n",
    "    \n",
    "    def num_vars(self):\n",
    "        counter = self.num_inputs + self.num_outputs\n",
    "        for triple in self.program:\n",
    "            out, _, _ = triple\n",
    "            if NAND_CIRC.is_w(out):\n",
    "                counter += 1\n",
    "        return counter\n",
    "    \n",
    "    def var_length(self):\n",
    "        return len(int2bin(self.num_vars() - 1))\n",
    "    \n",
    "    def index_program(self):\n",
    "        n = self.num_vars()\n",
    "        w_seen = {}\n",
    "        w_counter = [self.num_inputs]\n",
    "        def f(var):\n",
    "            if NAND_CIRC.is_w(var):\n",
    "                if var not in w_seen:\n",
    "                    w_seen[var] = w_counter[0]\n",
    "                    w_counter[0] += 1\n",
    "                return w_seen[var]\n",
    "            elif NAND_CIRC.is_x(var):\n",
    "                return NAND_CIRC.index(var)\n",
    "            else:\n",
    "                return n - self.num_outputs + NAND_CIRC.index(var)\n",
    "        p = []\n",
    "        for triple in self.program:\n",
    "            p.append(tuple([f(var) for var in triple]))\n",
    "        return p\n",
    "    \n",
    "    def circ2str(self):\n",
    "        var_len = self.var_length()\n",
    "        b = lambda x : int2bin(x, var_len)\n",
    "        prefix = ''\n",
    "        for char in int2bin(var_len):\n",
    "            prefix += 2*char\n",
    "        s = prefix + '01'\n",
    "        s += b(self.num_inputs)\n",
    "        s += b(self.num_outputs)\n",
    "        for triple in self.index_program():\n",
    "            out, in0, in1 = triple\n",
    "            s += b(out)\n",
    "            s += b(in0)\n",
    "            s += b(in1)\n",
    "        return s"
   ]
  },
  {
   "cell_type": "code",
   "execution_count": 105,
   "metadata": {},
   "outputs": [],
   "source": [
    "def split(s, i):\n",
    "    return s[0:i], s[i:]\n",
    "\n",
    "def check_str(s):\n",
    "    t = type(s)\n",
    "    if t != str:\n",
    "        raise Exception('Invalid string: {} is of type {}, expecting type str'.format(s, t))\n",
    "    for b in s:\n",
    "        if b != '0' and b != '1':\n",
    "            raise Exception('Invalid string: {} contains the character {}, expecting 0 or 1'.format(s, b))\n",
    "\n",
    "def get_prefix(p):\n",
    "    i = 0\n",
    "    prefix = 0\n",
    "    while True:\n",
    "        if p[2 * i] == p[2 * i + 1]:\n",
    "            prefix += int(p[2 * i]) * 2 ** i\n",
    "            i += 1\n",
    "        else:\n",
    "            i += 1\n",
    "            break\n",
    "    p = p[2 * i:]\n",
    "    return prefix, p\n",
    "def "
   ]
  },
  {
   "cell_type": "code",
   "execution_count": 151,
   "metadata": {},
   "outputs": [],
   "source": [
    "def EVAL_CIRC(p, x):\n",
    "    full_p = p\n",
    "    check_str(p), check_str(x)\n",
    "    invalid_encoding = 'Invalid NAND-CIRC encoding: {}'.format(full_p)\n",
    "    if p[0] != p[1]:\n",
    "        raise Exception(invalid_encoding)\n",
    "    var_len, p = get_prefix(p)\n",
    "    if len(p) < var_len * 2:\n",
    "        raise Exception(invalid_encoding)\n",
    "    num_inputs, p = split(p, var_len)\n",
    "    num_outputs, p = split(p, var_len)\n",
    "    num_inputs, num_outputs = bin2int(num_inputs), bin2int(num_outputs)\n",
    "    if len(p) % (var_len * 3) != 0:\n",
    "        raise Exception(invalid_encoding)\n",
    "    if len(x) != num_inputs:\n",
    "        raise Exception('Program {} takes inputs of length {}, input {} is of length {}'.format(full_p, num_inputs, x, len(x)))\n",
    "    vars = {}\n",
    "    b = lambda i : int2bin(i, var_len)\n",
    "    for i in range(num_inputs):\n",
    "        vars[b(i)] = int(x[i])\n",
    "    while p != '':\n",
    "        out, p = split(p, var_len)\n",
    "        in0, p = split(p, var_len)\n",
    "        in1, p = split(p, var_len)\n",
    "        vars[out] = NAND(vars[in0], vars[in1])\n",
    "    output = ''\n",
    "    num_vars = len(vars)\n",
    "    for i in range(num_vars - num_outputs, num_vars):\n",
    "        output += str(vars[b(i)])\n",
    "    return output"
   ]
  },
  {
   "cell_type": "code",
   "execution_count": 117,
   "metadata": {},
   "outputs": [],
   "source": [
    "def LOOKUP(k):\n",
    "    num_inputs = 2 ** k + k\n",
    "    p = NAND_CIRC(num_inputs, 1)\n",
    "    if k <= 0:\n",
    "        raise Exception('Input {} must be at least 1 to create non-trivial NAND-CIRC program'.format(k))\n",
    "    IF_inputs = [p.input_var(i) for i in range(2 ** k)]\n",
    "    for i in range(k - 1):\n",
    "        cond = p.input_var(num_inputs - i - 1)\n",
    "        next_IF_inputs = []\n",
    "        for j in range(int(len(IF_inputs) / 2)):\n",
    "            out = p.allocate()\n",
    "            p.IF(out, cond, IF_inputs[2 * j + 1], IF_inputs[2 * j])\n",
    "            next_IF_inputs.append(out)\n",
    "        IF_inputs = next_IF_inputs\n",
    "    out = p.output_var(0)\n",
    "    cond = p.input_var(num_inputs - k)\n",
    "    p.IF(out, cond, IF_inputs[1], IF_inputs[0])\n",
    "    return p.circ2str()"
   ]
  },
  {
   "cell_type": "code",
   "execution_count": 118,
   "metadata": {},
   "outputs": [],
   "source": [
    "def OUT2CIRC(output_list):\n",
    "    num_outputs = len(output_list[0])\n",
    "    for output in output_list:\n",
    "        check_str(output)\n",
    "        if len(output) != num_outputs:\n",
    "            raise Exception('All outputs {} must be of the same length'.format(output_list))\n",
    "    num_inputs = len(int2bin(len(output_list) - 1))\n",
    "    for i in range(2 ** num_inputs - len(output_list)):\n",
    "        output_list.append('0'* num_outputs)\n",
    "    p = NAND_CIRC(num_inputs, num_outputs)\n",
    "    flipped_output_list = [['' for _ in range(2 ** num_inputs)] for _ in range(num_outputs)]\n",
    "    for i in range(num_outputs):\n",
    "        for j in range(2 ** num_inputs):\n",
    "            b = output_list[j][i]\n",
    "            temp = p.allocate()\n",
    "            if b == '0':\n",
    "                p.ZERO(temp)\n",
    "            else:\n",
    "                p.ONE(temp)\n",
    "            flipped_output_list[i][j] = temp\n",
    "    for i in range(num_outputs):\n",
    "        IF_inputs = flipped_output_list[i]\n",
    "        for j in range(num_inputs - 1):\n",
    "            cond = p.input_var(num_inputs - j - 1)\n",
    "            next_IF_inputs = []\n",
    "            for k in range(int(len(IF_inputs) / 2)):\n",
    "                out = p.allocate()\n",
    "                p.IF(out, cond, IF_inputs[2 * k + 1], IF_inputs[2 * k])\n",
    "                next_IF_inputs.append(out)\n",
    "            IF_inputs = next_IF_inputs\n",
    "        out = p.output_var(i)\n",
    "        cond = p.input_var(0)\n",
    "        p.IF(out, cond, IF_inputs[1], IF_inputs[0])\n",
    "    return p.circ2str()"
   ]
  },
  {
   "cell_type": "code",
   "execution_count": null,
   "metadata": {},
   "outputs": [],
   "source": [
    "def remove_duplicates(lst):\n",
    "    res = []\n",
    "    for elt in lst:\n",
    "        if elt not in res:\n",
    "            res.append(elt)\n",
    "    return res"
   ]
  },
  {
   "cell_type": "code",
   "execution_count": 1,
   "metadata": {},
   "outputs": [],
   "source": [
    "class NAND_TM:\n",
    "    def __init__(self, state_list : list, alphabet : list, transition_table : dict):\n",
    "        \"\"\"\"\n",
    "        - The first state of the user-specified state list will be taken as the initial state.\n",
    "        - The first symbol of the user-specified alphabet will be taken as the start symbol.\n",
    "        - The second symbol of the user-specified alphabet will be taken as the empty set symbol.\n",
    "        - The transition table will be a dictionary wherein each key is a tuple with the first element being a\n",
    "          state in the state list and the second being a symbol in the alphabet. The value at each key is a tuple\n",
    "          with the first element being the direction L, R, H, or S, the second element being the new state, and the\n",
    "          third element being the new symbol in the alphabet to be written on the tape.\n",
    "        \"\"\"\n",
    "        \n",
    "        state_list = remove_duplicates(state_list)\n",
    "        alphabet = remove_duplicates(alphabet)\n",
    "        \n",
    "        for state in state_list:\n",
    "            for symbol in alphabet:\n",
    "                if (state, symbol) in transition_table:\n",
    "                    new_state, new_symbol, direction = transition_table[(state, symbol)]\n",
    "                    if direction not in ['L', 'R', 'S', 'H']:\n",
    "                        raise Exception('Transition table {} does not have a valid direction for input {} * {}'.format(transition_table, state, symbol))\n",
    "                    if new_state not in state_list:\n",
    "                        raise Exception('Transition table {} does not have a valid new state for input {} * {}'.format(transition_table, state, symbol))\n",
    "                    if new_symbol not in alphabet:\n",
    "                        raise Exception('Transition table {} does not have a valid new symbol for input {} * {}'.format(transition_table, state, symbol))\n",
    "                else:\n",
    "                    raise Exception('Transition table {} does not cover all possible state * symbol inputs'.format(transition_table))\n",
    "        \n",
    "        self.state_list = state_list\n",
    "        self.alphabet = alphabet\n",
    "        self.transition_table = transition_table\n",
    "                \n",
    "        self.num_states = len(state_list)\n",
    "        self.num_symbols = len(alphabet)\n",
    "        self.num_pairs = len(int2bin(self.num_states * self.num_symbols - 1))\n",
    "        \n",
    "        self.state_len = len(int2bin(self.num_states - 1))\n",
    "        self.symbol_len = len(int2bin(self.num_symbols - 1))\n",
    "        self.pair_len = len(int2bin(self.num_pairs - 1))\n",
    "\n",
    "    directions = ['L','R','S','H']\n",
    "\n",
    "    def check_state(self, state):\n",
    "        if state not in self.state_list:\n",
    "            raise Exception('Input state {} is not in state list {}'.format(state, self.state_list))\n",
    "    \n",
    "    def check_symbol(self, symbol):\n",
    "        if symbol not in self.alphabet:\n",
    "            raise Exception('Input symbol {} is not in alphabet {}'.format(symbol, self.alphabet))\n",
    "    \n",
    "    def state_index(self, state):\n",
    "        self.check_state(state)\n",
    "        return self.state_list.index(state)\n",
    "    \n",
    "    def symbol_index(self, symbol):\n",
    "        self.check_symbol(symbol)\n",
    "        return self.alphabet.index(symbol)\n",
    "    \n",
    "    def pair_index(self, state, symbol):\n",
    "        return self.state_index(state) * len(self.alphabet) + self.symbol_index(symbol)\n",
    "    \n",
    "    def direction_index(direction):\n",
    "        if direction not in NAND_TM.directions:\n",
    "            raise Exception('Invalid direction: {}, expecting L, R, S, H'.format(direction))\n",
    "        return NAND_TM.directions.index(direction)\n",
    "    \n",
    "    def get_state(self, index):\n",
    "        return self.state_list[index]\n",
    "        \n",
    "    def get_symbol(self, index):\n",
    "        return self.alphabet[index]\n",
    "    \n",
    "    def get_pair(self, index):\n",
    "        state_index = floor((index / self.num_symbols))\n",
    "        symbol_index = index - state_index * self.num_symbols\n",
    "        return (self.get_state(state_index), self.get_symbol(symbol_index))\n",
    "    \n",
    "    def tape2str(tape):\n",
    "        res = []\n",
    "        for symbol in tape:\n",
    "            self.check_symbol(symbol)\n",
    "            res.append(int2bin(self.symbol_index(symbol), self.symbol_len))\n",
    "            \n",
    "    def str2tape(s):\n",
    "        res = [self.alphabet[0]]\n",
    "        str_len = len(s)\n",
    "        symbol_len = self.symbol_len\n",
    "        if str_len % symbol_len != 0:\n",
    "            raise Exception('Length of string {} is not a multiple of the symbol length {}'.format(str_len, symbol_len))\n",
    "        for i in range(int(str_len / symbol_len)):\n",
    "            symbol_index = s[symbol_len * i : symbol_len * (i + 1)]\n",
    "            res.append(self.get_symbol(symbol_index))\n",
    "        return res\n",
    "    \"\"\"\"\n",
    "    def transition2str(self):\n",
    "        output_list = []\n",
    "        for i in range(self.num_pairs):\n",
    "            state, symbol = self.get_pair(i)\n",
    "            new_state, new_symbol, direction = self.transition_table[(state, symbol)]\n",
    "            new_pair = int2bin(self.pair_index(new_state, new_symbol), self.pair_len)\n",
    "            direction = int2bin(NAND_TM.direction_index(direction), 2)\n",
    "            output_list.append(new_pair + direction)\n",
    "        return output_list\n",
    "    \n",
    "    def transition2str(self):\n",
    "        output_list = ['0' * self.state_len + self.symbol_len + 2 for _ in range(2 ** (self.state_len + self.symbol_len))]\n",
    "        for state in self.state_list:\n",
    "            for symbol in self.alphabet:\n",
    "                state_str = int2bin(self.state_index(state), self.state_len)\n",
    "                symbol_str = int2bin(self.symbol_index(symbol), self.symbol_len)\n",
    "                index = bin2int(state_str + symbol_str)\n",
    "                new_state, new_symbol, direction = self.transition_table[(state, symbol)]\n",
    "                new_state_str = int2bin(self.state_index(new_state), self.state_len)\n",
    "                new_symbol_str = int2bin(self.symbol_index(new_symbol), self.symbol_len)\n",
    "                direction_str = int2bin(self.direction_index(direction), 2)\n",
    "                output_list[index] = new_state_str + new_symbol_str + direction_str\n",
    "        return output_list   \n",
    "     \"\"\"           \n",
    "    def tm2str(self):\n",
    "        prefix = ''\n",
    "        for b in int2bin(self.num_states):\n",
    "            prefix += b * 2\n",
    "        prefix += '01'\n",
    "        for b in int2bin(self.num_symbols):\n",
    "            prefix += b * 2\n",
    "        prefix += '01'\n",
    "        output_list = []\n",
    "        for i in range(self.num_pairs):\n",
    "            state, symbol = self.get_pair(i)\n",
    "            new_state, new_symbol, direction = self.transition_table[(state, symbol)]\n",
    "            new_pair = int2bin(self.pair_index(new_state, new_symbol), self.pair_len)\n",
    "            direction = int2bin(NAND_TM.direction_index(direction), 2)\n",
    "            output_list.append(new_pair + direction)\n",
    "        transition_str = ''\n",
    "        for output in output_list:\n",
    "            transition_str += output\n",
    "        return prefix + transition_str\n",
    "    \n",
    "    def EVAL(self, x):\n",
    "        output_list = []\n",
    "        for i in range(self.num_pairs):\n",
    "            state, symbol = self.get_pair(i)\n",
    "            new_state, new_symbol, direction = self.transition_table[(state, symbol)]\n",
    "            new_pair = int2bin(self.pair_index(new_state, new_symbol), self.pair_len)\n",
    "            direction = int2bin(NAND_TM.direction_index(direction), 2)\n",
    "            output_list.append(new_pair + direction)\n",
    "        transition_circ = OUT2CIRC(output_list)\n",
    "        head_position = 0\n",
    "        x.insert(0, self.get_symbol(0))\n",
    "        state = self.get_state(0)\n",
    "        while True:\n",
    "            if head_position >= len(x):\n",
    "                x.append(self.get_symbol(1))\n",
    "            symbol = x[head_position]\n",
    "            pair = self.pair_index(state, symbol)\n",
    "            out = EVAL_CIRC(transition_circ, int2bin(pair, self.pair_len))\n",
    "            new_pair, direction = split(out, self.pair_len)\n",
    "            direction = NAND_TM.directions[int2bin(direction, 2)]\n",
    "            new_state, new_symbol = self.get_pair(int2bin(new_pair, self.pair_len))\n",
    "            x[i] = new_symbol\n",
    "            state = new_state\n",
    "            if direction == 'L':\n",
    "                head_position -= 1\n",
    "            elif direction == 'R':\n",
    "                head_position += 1\n",
    "            elif direction == 'S':\n",
    "                continue\n",
    "            else:\n",
    "                break\n",
    "        return x[1:]"
   ]
  },
  {
   "cell_type": "code",
   "execution_count": 2,
   "metadata": {},
   "outputs": [],
   "source": [
    "def EVAL_TM(p, x):\n",
    "    check_str(p), check_str(x)\n",
    "    invalid_encoding = 'Invalid NAND-TM encoding: {}'.format(p)\n",
    "    if p[0] != p[1]:\n",
    "        raise Exception(invalid_encoding)\n",
    "    num_states, p = get_prefix(p)\n",
    "    num_symbols, transition_str = get_prefix(p)\n",
    "    num_pairs = num_states * num_symbols\n",
    "    state_len = len(int2bin(num_states - 1))\n",
    "    symbol_len = len(int2bin(num_symbols - 1))\n",
    "    pair_len = len(int2bin(num_pairs - 1))\n",
    "    \n",
    "    transition_table = ['0' * (pair_len + 2) for _ in range(num_pairs)]\n",
    "    for i in range(len(transition_table)):\n",
    "        state_index = floor((i / num_symbols))\n",
    "        symbol_index = i - state_index * num_symbols\n",
    "        \n",
    "        s = int2bin(i, state_len + symbol_len)\n",
    "        in_state_str, in_symbol_str = split(s, state_len)\n",
    "        in_state_index, in_symbol_index = bin2int(state_str), bin2int(symbol_str)\n",
    "        if in_state_index >= num_states or in_symbol_index >= num_symbols:\n",
    "            continue\n",
    "        in_pair_index = in_state_index * num_symbols + in_symbol_index\n",
    "        out_str = transition_str[(pair_len + 2) * pair_index : (pair_len + 2) * (pair_index + 1)]\n",
    "        out_pair_str, direction_str = split(out_str, pair_len)\n",
    "        out_pair_index = bin2int(out_pair_str)\n",
    "        out_state_index = floor(out_pair_index / num_symbols)\n",
    "        out_symbol_index = out_pair_index - out_state_index * num_symbols\n",
    "        out_state_str, out_symbol_str = int2bin(out_state_index, state_len), int2bin(out_symbol_index, symbol_len)\n",
    "        transition_table[i] = out_state_str + out_symbol_str + direction_str\n",
    "    transition_CIRC = OUT2CIRC(transition_table)    \n",
    "    tape = ['0' * symbol_len]\n",
    "    if len(x) % symbol_len != 0:\n",
    "        raise Exception('Length of input {} is not divisible by symbol length {}'.format(x, symbol_len))\n",
    "    for i in range(int(len(x) / symbol_len)):\n",
    "        tape.append(x[symbol_len * i : symbol_len * (i + 1)])\n",
    "    head_position = 0\n",
    "    state = '0' * state_len\n",
    "    directions = ['L', 'R', 'S', 'H']\n",
    "    while True:\n",
    "        symbol = tape[head_position]\n",
    "        out = EVAL_CIRC(transition_CIRC, state + symbol)\n",
    "        state, temp = split(out, state_len)\n",
    "        symbol, direction = split(temp, symbol_len)\n",
    "        tape[head_position] = symbol\n",
    "        letter = directions[bin2int(direction)]\n",
    "        if letter == 'L':\n",
    "            head_position -= 1\n",
    "        elif letter == 'R':\n",
    "            head_position += 1\n",
    "        elif letter == 'H':\n",
    "            break\n",
    "    return output"
   ]
  },
  {
   "cell_type": "code",
   "execution_count": 153,
   "metadata": {},
   "outputs": [
    {
     "name": "stdout",
     "output_type": "stream",
     "text": [
      "[]\n"
     ]
    }
   ],
   "source": [
    "p = NAND_CIRC(2,1)\n",
    "print(p.program)"
   ]
  },
  {
   "cell_type": "code",
   "execution_count": 155,
   "metadata": {},
   "outputs": [
    {
     "name": "stdout",
     "output_type": "stream",
     "text": [
      "W[0]\n"
     ]
    }
   ],
   "source": [
    "a = p.allocate()\n",
    "b = p.allocate()\n",
    "b = p.allocate()\n",
    "print(a)"
   ]
  },
  {
   "cell_type": "code",
   "execution_count": 156,
   "metadata": {},
   "outputs": [
    {
     "name": "stdout",
     "output_type": "stream",
     "text": [
      "[('W[0]', 'X[0]', 'X[1]'), ('W[2]', 'W[0]', 'X[0]'), ('Y[0]', 'W[0]', 'W[2]')]\n"
     ]
    }
   ],
   "source": [
    "p.NAND(a, p.input_var(0), p.input_var(1))\n",
    "p.NAND(b, a, p.input_var(0))\n",
    "p.NAND(p.output_var(0), a, b)\n",
    "print(p.program)\n"
   ]
  },
  {
   "cell_type": "code",
   "execution_count": 157,
   "metadata": {},
   "outputs": [
    {
     "data": {
      "text/plain": [
       "[(2, 0, 1), (3, 2, 0), (4, 2, 3)]"
      ]
     },
     "execution_count": 157,
     "metadata": {},
     "output_type": "execute_result"
    }
   ],
   "source": [
    "p.index_program()"
   ]
  },
  {
   "cell_type": "code",
   "execution_count": 158,
   "metadata": {},
   "outputs": [],
   "source": [
    "s = p.circ2str()"
   ]
  },
  {
   "cell_type": "code",
   "execution_count": 159,
   "metadata": {},
   "outputs": [
    {
     "data": {
      "text/plain": [
       "'1'"
      ]
     },
     "execution_count": 159,
     "metadata": {},
     "output_type": "execute_result"
    }
   ],
   "source": [
    "x = '10'\n",
    "EVAL_CIRC(s, x)"
   ]
  },
  {
   "cell_type": "code",
   "execution_count": 160,
   "metadata": {},
   "outputs": [
    {
     "data": {
      "text/plain": [
       "'1'"
      ]
     },
     "execution_count": 160,
     "metadata": {},
     "output_type": "execute_result"
    }
   ],
   "source": [
    "p = NAND_CIRC(3, 1)\n",
    "p.IF(p.output_var(0), p.input_var(0), p.input_var(1), p.input_var(2))\n",
    "s = p.circ2str()\n",
    "x = '110'\n",
    "EVAL_CIRC(s, x)"
   ]
  },
  {
   "cell_type": "code",
   "execution_count": 161,
   "metadata": {},
   "outputs": [
    {
     "data": {
      "text/plain": [
       "'110011010110010000011001010010100111001000010100000100000001100100101110000010010101010010100110101100010100001100100001010101101101000110011100010000100111101011000100000011001001110100011111000001'"
      ]
     },
     "execution_count": 161,
     "metadata": {},
     "output_type": "execute_result"
    }
   ],
   "source": [
    "LOOKUP(2)"
   ]
  },
  {
   "cell_type": "code",
   "execution_count": 163,
   "metadata": {},
   "outputs": [
    {
     "data": {
      "text/plain": [
       "'1'"
      ]
     },
     "execution_count": 163,
     "metadata": {},
     "output_type": "execute_result"
    }
   ],
   "source": [
    "EVAL_CIRC(s, '001')"
   ]
  },
  {
   "cell_type": "code",
   "execution_count": 164,
   "metadata": {},
   "outputs": [
    {
     "data": {
      "text/plain": [
       "[1]"
      ]
     },
     "execution_count": 164,
     "metadata": {},
     "output_type": "execute_result"
    }
   ],
   "source": [
    "[1].copy()"
   ]
  },
  {
   "cell_type": "code",
   "execution_count": 166,
   "metadata": {},
   "outputs": [
    {
     "data": {
      "text/plain": [
       "'0'"
      ]
     },
     "execution_count": 166,
     "metadata": {},
     "output_type": "execute_result"
    }
   ],
   "source": [
    "p = NAND_CIRC(1,1)\n",
    "p.ZERO(p.output_var(0))\n",
    "s = p.circ2str()\n",
    "EVAL_CIRC(s, '0')"
   ]
  },
  {
   "cell_type": "code",
   "execution_count": 168,
   "metadata": {},
   "outputs": [
    {
     "name": "stdout",
     "output_type": "stream",
     "text": [
      "1.0\n"
     ]
    }
   ],
   "source": [
    "k = 3\n",
    "p = LOOKUP(k)\n",
    "count = 0\n",
    "for i in range(2 ** (2 ** k)):\n",
    "    s = int2bin(i, 2 ** k)\n",
    "    for j in range(2 ** k):\n",
    "        actual = s[j]\n",
    "        lookup = EVAL_CIRC(p, s + int2bin(j, k, least_sig_first = False))\n",
    "        if actual == lookup:\n",
    "            count += 1\n",
    "trials = 2 ** (2 ** k) * 2 ** k\n",
    "accuracy = count / trials\n",
    "print(accuracy)"
   ]
  },
  {
   "cell_type": "code",
   "execution_count": 169,
   "metadata": {},
   "outputs": [
    {
     "name": "stdout",
     "output_type": "stream",
     "text": [
      "[2, 0]\n"
     ]
    }
   ],
   "source": [
    "a = [0]\n",
    "a.insert(0, 2)\n",
    "print(a)"
   ]
  },
  {
   "cell_type": "code",
   "execution_count": 170,
   "metadata": {},
   "outputs": [
    {
     "data": {
      "image/png": "[encoded data removed]",
      "text/plain": [
       "<Figure size 432x288 with 1 Axes>"
      ]
     },
     "metadata": {
      "needs_background": "light"
     },
     "output_type": "display_data"
    }
   ],
   "source": [
    "from time import time\n",
    "import matplotlib.pyplot as plt\n",
    "times = []\n",
    "\n",
    "for x in range(2,14):\n",
    "    start = time()\n",
    "    LOOKUP(x)\n",
    "    end = time()\n",
    "    times.append(end - start)\n",
    "plt.plot(times)\n",
    "plt.title('Program creation time')\n",
    "plt.show()"
   ]
  },
  {
   "cell_type": "code",
   "execution_count": null,
   "metadata": {},
   "outputs": [],
   "source": [
    "x = ['110','010','001']\n",
    "s = OUT2CIRC(x)\n",
    "EVAL_CIRC(s, '11')"
   ]
  },
  {
   "cell_type": "code",
   "execution_count": null,
   "metadata": {},
   "outputs": [],
   "source": [
    "def remove_duplicates(lst):\n",
    "    res = []\n",
    "    for elt in lst:\n",
    "        if elt not in res:\n",
    "            res.append(elt)\n",
    "    return res"
   ]
  },
  {
   "cell_type": "code",
   "execution_count": 176,
   "metadata": {},
   "outputs": [],
   "source": []
  },
  {
   "cell_type": "code",
   "execution_count": 177,
   "metadata": {},
   "outputs": [
    {
     "name": "stdout",
     "output_type": "stream",
     "text": [
      "2 2\n"
     ]
    }
   ],
   "source": [
    "state_list = ['x','y']\n",
    "alphabet = ['a','b']\n",
    "d = {('x','a') : ('x', 'a', 'L'), ('y','a') : ('y', 'b', 'R'), ('x','b') : ('x', 'b', 'H'), ('y', 'b') : ('x', 'b', 'S')}\n",
    "TM = NAND_TM(state_list, alphabet, d)\n",
    "TM.transition2str()\n",
    "tm = TM.tm2str()\n",
    "num_states, tm = get_prefix(tm)\n",
    "num_symbols, tm = get_prefix(tm)\n",
    "print(num_states, num_symbols)"
   ]
  },
  {
   "cell_type": "code",
   "execution_count": 180,
   "metadata": {},
   "outputs": [],
   "source": []
  },
  {
   "cell_type": "code",
   "execution_count": 144,
   "metadata": {},
   "outputs": [
    {
     "ename": "TypeError",
     "evalue": "'str' object does not support item assignment",
     "output_type": "error",
     "traceback": [
      "\u001b[0;31m---------------------------------------------------------------------------\u001b[0m",
      "\u001b[0;31mTypeError\u001b[0m                                 Traceback (most recent call last)",
      "\u001b[0;32m<ipython-input-144-2b1e00027e7f>\u001b[0m in \u001b[0;36m<module>\u001b[0;34m()\u001b[0m\n\u001b[1;32m      1\u001b[0m \u001b[0mx\u001b[0m \u001b[0;34m=\u001b[0m \u001b[0;34m'111'\u001b[0m\u001b[0;34m\u001b[0m\u001b[0m\n\u001b[0;32m----> 2\u001b[0;31m \u001b[0mx\u001b[0m\u001b[0;34m[\u001b[0m\u001b[0;36m1\u001b[0m\u001b[0;34m]\u001b[0m \u001b[0;34m=\u001b[0m \u001b[0;34m'0'\u001b[0m\u001b[0;34m\u001b[0m\u001b[0m\n\u001b[0m\u001b[1;32m      3\u001b[0m \u001b[0mprint\u001b[0m\u001b[0;34m(\u001b[0m\u001b[0mx\u001b[0m\u001b[0;34m)\u001b[0m\u001b[0;34m\u001b[0m\u001b[0m\n",
      "\u001b[0;31mTypeError\u001b[0m: 'str' object does not support item assignment"
     ]
    }
   ],
   "source": []
  },
  {
   "cell_type": "code",
   "execution_count": 179,
   "metadata": {},
   "outputs": [
    {
     "name": "stdout",
     "output_type": "stream",
     "text": [
      "0\n",
      "2\n"
     ]
    }
   ],
   "source": []
  },
  {
   "cell_type": "code",
   "execution_count": 259,
   "metadata": {},
   "outputs": [
    {
     "name": "stdout",
     "output_type": "stream",
     "text": [
      "77\n",
      "256\n"
     ]
    }
   ],
   "source": []
  },
  {
   "cell_type": "code",
   "execution_count": 247,
   "metadata": {},
   "outputs": [
    {
     "name": "stdout",
     "output_type": "stream",
     "text": [
      "a\n",
      "b\n"
     ]
    }
   ],
   "source": []
  },
  {
   "cell_type": "code",
   "execution_count": 223,
   "metadata": {},
   "outputs": [],
   "source": []
  },
  {
   "cell_type": "code",
   "execution_count": 225,
   "metadata": {},
   "outputs": [],
   "source": []
  },
  {
   "cell_type": "code",
   "execution_count": 281,
   "metadata": {},
   "outputs": [
    {
     "name": "stdout",
     "output_type": "stream",
     "text": [
      "24\n",
      "12\n",
      "0123\n",
      "0213\n",
      "0312\n",
      "1023\n",
      "1203\n",
      "1302\n",
      "2013\n",
      "2103\n",
      "2301\n",
      "3012\n",
      "3102\n",
      "3201\n"
     ]
    }
   ],
   "source": []
  },
  {
   "cell_type": "code",
   "execution_count": 11,
   "metadata": {},
   "outputs": [],
   "source": []
  },
  {
   "cell_type": "code",
   "execution_count": 12,
   "metadata": {},
   "outputs": [],
   "source": []
  },
  {
   "cell_type": "code",
   "execution_count": 13,
   "metadata": {},
   "outputs": [
    {
     "data": {
      "text/plain": [
       "[2, 1, 2, 3]"
      ]
     },
     "execution_count": 13,
     "metadata": {},
     "output_type": "execute_result"
    }
   ],
   "source": []
  },
  {
   "cell_type": "code",
   "execution_count": null,
   "metadata": {},
   "outputs": [],
   "source": []
  }
 ],
 "metadata": {
  "kernelspec": {
   "display_name": "Python 3",
   "language": "python",
   "name": "python3"
  },
  "language_info": {
   "codemirror_mode": {
    "name": "ipython",
    "version": 3
   },
   "file_extension": ".py",
   "mimetype": "text/x-python",
   "name": "python",
   "nbconvert_exporter": "python",
   "pygments_lexer": "ipython3",
   "version": "3.7.0"
  }
 },
 "nbformat": 4,
 "nbformat_minor": 2
}
