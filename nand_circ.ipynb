{
 "cells": [
  {
   "cell_type": "markdown",
   "metadata": {},
   "source": [
    "Class for NAND-CIRC programming language"
   ]
  },
  {
   "cell_type": "code",
   "execution_count": 164,
   "metadata": {},
   "outputs": [],
   "source": [
    "from math import log, floor"
   ]
  },
  {
   "cell_type": "code",
   "execution_count": 428,
   "metadata": {},
   "outputs": [],
   "source": [
    "def int2bin(n, num_bits = None, least_sig_first = True):\n",
    "        if num_bits == None:\n",
    "            if n == 0:\n",
    "                return '0'\n",
    "            else:\n",
    "                num_bits = floor(log(n, 2) + 1)\n",
    "        s = bin(n)[2:]\n",
    "        len_s = len(s)\n",
    "        if len_s > num_bits:\n",
    "            raise Exception('Decimal {} cannot be represented with {} bits'.format(n, num_bits))\n",
    "        elif len_s < num_bits:\n",
    "            s = '0'*(num_bits - len_s) + s\n",
    "        if least_sig_first:\n",
    "            return ''.join(reversed(s))\n",
    "        else:\n",
    "            return s\n",
    "def bin2int(s, least_sig_first = True):\n",
    "    if s == '':\n",
    "        return 0\n",
    "    if not least_sig_first:\n",
    "        s = ''.join(reversed(s))\n",
    "    return int(s[0]) + 2 * bin2int(s[1:])\n",
    "def NAND(a, b):\n",
    "    if a != 0 and a != 1:\n",
    "        raise Exception('NAND input {}, expecting 0 or 1'.format(a))\n",
    "    if b != 0 and b!= 1:\n",
    "        raise Exception('NAND input {}, expecting 0 or 1'.format(b))\n",
    "    return 1 - a * b"
   ]
  },
  {
   "cell_type": "code",
   "execution_count": 484,
   "metadata": {},
   "outputs": [],
   "source": [
    "class NAND_CIRC:\n",
    "    def __init__(self, num_inputs, num_outputs):\n",
    "        self.num_inputs = num_inputs\n",
    "        self.num_outputs = num_outputs\n",
    "        self.num_working = 0\n",
    "        self.valued_vars = []\n",
    "        for i in range(num_inputs):\n",
    "            self.valued_vars.append('X[{}]'.format(i))\n",
    "        self.program = []\n",
    "        \n",
    "    def allocate(self):\n",
    "        w = 'W[{}]'.format(self.num_working)\n",
    "        self.num_working += 1\n",
    "        return w\n",
    "    \n",
    "    def input_var(self, i):\n",
    "        n = self.num_inputs\n",
    "        if i >= n:\n",
    "            raise Exception('This program only has {} input variables'.format(n))\n",
    "        return 'X[{}]'.format(i)\n",
    "    \n",
    "    def output_var(self, i):\n",
    "        m = self.num_outputs\n",
    "        if i >= m:\n",
    "            raise Exception('This program only has {} output variables'.format(m))\n",
    "        return 'Y[{}]'.format(i)\n",
    "            \n",
    "    def is_w(var):\n",
    "        return var[0] == 'W'\n",
    "    \n",
    "    def is_x(var):\n",
    "        return var[0] == 'X'\n",
    "    \n",
    "    def is_y(var):\n",
    "        return var[0] == 'Y'\n",
    "        \n",
    "    def index(var):\n",
    "        return int(var[2:-1])\n",
    "    \n",
    "    def check_format(var):\n",
    "        if len(var) < 4:\n",
    "            formatted = False\n",
    "        else:\n",
    "            formatted = (var[1] == '[' and var[-1] == ']') and (NAND_CIRC.is_w(var) or NAND_CIRC.is_x(var) or NAND_CIRC.is_y(var))\n",
    "            try:\n",
    "                NAND_CIRC.index(var)\n",
    "            except:\n",
    "                formatted = False\n",
    "        if not formatted:\n",
    "            raise Exception('NAND variable {} is improperly formatted'.format(var))\n",
    "        \n",
    "    def check_index(self, var):\n",
    "        i = NAND_CIRC.index(var)\n",
    "        if NAND_CIRC.is_w(var) and i >= self.num_working:\n",
    "            raise Exception('Program has {} working variables: NAND variable {} is out of range'.format(self.num_working, var))\n",
    "        if NAND_CIRC.is_x(var) and i >= self.num_inputs:\n",
    "            raise Exception('Program has {} input variables: NAND variable {} is out of range'.format(self.num_inputs, var))\n",
    "        if NAND_CIRC.is_y(var) and i >= self.num_outputs:\n",
    "            raise Exception('Program has {} output variables: NAND variable {} is out of range'.format(self.num_outputs, var))\n",
    "        \n",
    "    def check_input(self, inz):\n",
    "        if NAND_CIRC.is_y(inz):\n",
    "            raise Exception('NAND input variable {} cannot be one of the program\\'s output variables'.format(inz))\n",
    "        if inz not in self.valued_vars:\n",
    "            raise Exception('NAND input variable {} is not a function of the program\\'s input variables'.format(inz))\n",
    "    \n",
    "    def check_output(self, out):\n",
    "        if NAND_CIRC.is_x(out):\n",
    "            raise Exception('NAND output variable {} cannot be one of the program\\'s input variables'.format(out))\n",
    "        if out in self.valued_vars:\n",
    "            raise Exception('NAND output variable {} is already the output of another NAND gate'.format(out))\n",
    "        \n",
    "    def NAND(self, out, in0, in1):\n",
    "        triple = (out, in0, in1)\n",
    "        [NAND_CIRC.check_format(z) for z in triple]\n",
    "        [self.check_index(z) for z in triple]\n",
    "        self.check_input(in0)\n",
    "        self.check_input(in1)\n",
    "        self.check_output(out)\n",
    "        self.valued_vars.append(out)\n",
    "        self.program.append(triple)\n",
    "    \n",
    "    def NOT(self, out, in0):\n",
    "        self.NAND(out, in0, in0)\n",
    "    \n",
    "    def AND(self, out, in0, in1):\n",
    "        temp = self.allocate()\n",
    "        self.NAND(temp, in0, in1)\n",
    "        self.NOT(out, temp)\n",
    "    \n",
    "    def OR(self, out, in0, in1):\n",
    "        not_0 = p.allocate()\n",
    "        p.NOT(not_0, in0)\n",
    "        not_1 = p.allocate()\n",
    "        p.NOT(not_1, in1)\n",
    "        p.NAND(out, not_0, not_1)\n",
    "    \n",
    "    def IF(self, out, cond, in0, in1):\n",
    "        notcond = p.allocate()\n",
    "        p.NOT(notcond, cond)\n",
    "        temp_0 = p.allocate()\n",
    "        p.NAND(temp_0, in0, cond)\n",
    "        temp_1 = p.allocate()\n",
    "        p.NAND(temp_1, in1, notcond)\n",
    "        p.NAND(out, temp_0, temp_1)\n",
    "    \n",
    "    def num_vars(self):\n",
    "        counter = self.num_inputs + self.num_outputs\n",
    "        for triple in self.program:\n",
    "            out, _, _ = triple\n",
    "            if NAND_CIRC.is_w(out):\n",
    "                counter += 1\n",
    "        return counter\n",
    "    \n",
    "    def var_length(self):\n",
    "        return len(int2bin(self.num_vars() - 1))\n",
    "    \n",
    "    def index_program(self):\n",
    "        n = self.num_vars()\n",
    "        w_seen = {}\n",
    "        w_counter = [self.num_inputs]\n",
    "        def f(var):\n",
    "            if NAND_CIRC.is_w(var):\n",
    "                if var not in w_seen:\n",
    "                    w_seen[var] = w_counter[0]\n",
    "                    w_counter[0] += 1\n",
    "                return w_seen[var]\n",
    "            elif NAND_CIRC.is_x(var):\n",
    "                return NAND_CIRC.index(var)\n",
    "            else:\n",
    "                return n - self.num_outputs + NAND_CIRC.index(var)\n",
    "        p = []\n",
    "        for triple in self.program:\n",
    "            p.append(tuple([f(var) for var in triple]))\n",
    "        return p\n",
    "    \n",
    "    def circ2str(self):\n",
    "        var_len = self.var_length()\n",
    "        b = lambda x : int2bin(x, var_len)\n",
    "        prefix = ''\n",
    "        for char in int2bin(var_len):\n",
    "            prefix += 2*char\n",
    "        s = prefix + '01'\n",
    "        s += b(self.num_inputs)\n",
    "        s += b(self.num_outputs)\n",
    "        for triple in self.index_program():\n",
    "            out, in0, in1 = triple\n",
    "            s += b(out)\n",
    "            s += b(in0)\n",
    "            s += b(in1)\n",
    "        return s"
   ]
  },
  {
   "cell_type": "code",
   "execution_count": 485,
   "metadata": {},
   "outputs": [],
   "source": [
    "def LOOKUP(k):\n",
    "    p = NAND_CIRC(2 ** k + k, 1)\n",
    "    if k <= 0:\n",
    "        raise Exception('Input {} must be at least 1 to create non-trivial NAND-CIRC program'.format(k))\n",
    "    def IF_CIRC(p0, p1):\n",
    "        p2 = NAND_CIRC(p0.num_inputs + p1.num_inputs, 1)\n",
    "        for triple in p0.program:\n",
    "            out, in0, in1 = triple\n",
    "            \n",
    "    def helper(i):\n",
    "        if i == 1:\n",
    "            p.IF(p.output_var(0), p.input_var(2), p.input_var(1), p.input_var(0))\n",
    "        else:\n",
    "            p0 = NAND_CIRC(2 ** (k - 1) + k - 1, 1)\n",
    "            p1 = NAND_CIRC(2 ** (k - 1) + k - 1, 1)\n",
    "        "
   ]
  },
  {
   "cell_type": "code",
   "execution_count": 486,
   "metadata": {},
   "outputs": [],
   "source": [
    "def split(s, i):\n",
    "    return s[0:i], s[i:]\n",
    "\n",
    "def check_str(s):\n",
    "    t = type(s)\n",
    "    if t != str:\n",
    "        raise Exception('Invalid string: {} is of type {}, expecting type str'.format(s, t))\n",
    "    for b in s:\n",
    "        if b != '0' and b != '1':\n",
    "            print(b)\n",
    "            raise Exception('Invalid string: {} contains the character {}, expecting 0 or 1'.format(s, b))\n",
    "\n",
    "def EVAL(p, x):\n",
    "    full_p = p\n",
    "    check_str(p), check_str(x)\n",
    "    invalid_encoding = 'Invalid NAND-CIRC encoding: {}'.format(full_p)\n",
    "    if p[0] != p[1]:\n",
    "        raise Exception(invalid_encoding)\n",
    "    i = 0\n",
    "    var_len = 0\n",
    "    while True:\n",
    "        if p[2 * i] == p[2 * i + 1]:\n",
    "            var_len += int(p[2 * i]) * 2 ** i\n",
    "            i += 1\n",
    "        else:\n",
    "            i += 1\n",
    "            break\n",
    "    p = p[2 * i:]\n",
    "    if len(p) < var_len * 2:\n",
    "        raise Exception(invalid_encoding)\n",
    "    num_inputs, p = split(p, var_len)\n",
    "    num_outputs, p = split(p, var_len)\n",
    "    num_inputs, num_outputs = bin2int(num_inputs), bin2int(num_outputs)\n",
    "    if len(p) % (var_len * 3) != 0:\n",
    "        raise Exception(invalid_encoding)\n",
    "    if len(x) != num_inputs:\n",
    "        raise Exception('Program {} takes inputs of length {}, input {} is of length {}'.format(full_p, num_inputs, x, len(x)))\n",
    "    vars = {}\n",
    "    b = lambda i : int2bin(i, var_len)\n",
    "    for i in range(num_inputs):\n",
    "        vars[b(i)] = int(x[i])\n",
    "    while p != '':\n",
    "        out, p = split(p, var_len)\n",
    "        in0, p = split(p, var_len)\n",
    "        in1, p = split(p, var_len)\n",
    "        vars[out] = NAND(vars[in0], vars[in1])\n",
    "    output = ''\n",
    "    num_vars = len(vars)\n",
    "    for i in range(num_vars - num_outputs, num_vars):\n",
    "        output += str(vars[b(i)])\n",
    "    return output"
   ]
  },
  {
   "cell_type": "code",
   "execution_count": 487,
   "metadata": {},
   "outputs": [
    {
     "name": "stdout",
     "output_type": "stream",
     "text": [
      "[]\n"
     ]
    }
   ],
   "source": [
    "p = NAND_CIRC(2,1)\n",
    "print(p.program)"
   ]
  },
  {
   "cell_type": "code",
   "execution_count": 488,
   "metadata": {},
   "outputs": [
    {
     "name": "stdout",
     "output_type": "stream",
     "text": [
      "W[0]\n"
     ]
    }
   ],
   "source": [
    "a = p.allocate()\n",
    "b = p.allocate()\n",
    "b = p.allocate()\n",
    "print(a)"
   ]
  },
  {
   "cell_type": "code",
   "execution_count": 489,
   "metadata": {},
   "outputs": [
    {
     "name": "stdout",
     "output_type": "stream",
     "text": [
      "[('W[0]', 'X[0]', 'X[1]'), ('W[2]', 'W[0]', 'X[0]'), ('Y[0]', 'W[0]', 'W[2]')]\n"
     ]
    }
   ],
   "source": [
    "p.NAND(a, p.input_var(0), p.input_var(1))\n",
    "p.NAND(b, a, p.input_var(0))\n",
    "p.NAND(p.output_var(0), a, b)\n",
    "print(p.program)\n"
   ]
  },
  {
   "cell_type": "code",
   "execution_count": 490,
   "metadata": {},
   "outputs": [
    {
     "data": {
      "text/plain": [
       "[(2, 0, 1), (3, 2, 0), (4, 2, 3)]"
      ]
     },
     "execution_count": 490,
     "metadata": {},
     "output_type": "execute_result"
    }
   ],
   "source": [
    "p.index_program()"
   ]
  },
  {
   "cell_type": "code",
   "execution_count": 491,
   "metadata": {},
   "outputs": [],
   "source": [
    "s = p.circ2str()"
   ]
  },
  {
   "cell_type": "code",
   "execution_count": 492,
   "metadata": {},
   "outputs": [
    {
     "data": {
      "text/plain": [
       "'1'"
      ]
     },
     "execution_count": 492,
     "metadata": {},
     "output_type": "execute_result"
    }
   ],
   "source": [
    "x = '10'\n",
    "EVAL(s, x)"
   ]
  },
  {
   "cell_type": "code",
   "execution_count": 504,
   "metadata": {},
   "outputs": [
    {
     "data": {
      "text/plain": [
       "'1'"
      ]
     },
     "execution_count": 504,
     "metadata": {},
     "output_type": "execute_result"
    }
   ],
   "source": [
    "p = NAND_CIRC(3, 1)\n",
    "p.IF(p.output_var(0), p.input_var(0), p.input_var(1), p.input_var(2))\n",
    "s = p.circ2str()\n",
    "x = '110'\n",
    "EVAL(s, x)"
   ]
  },
  {
   "cell_type": "code",
   "execution_count": null,
   "metadata": {},
   "outputs": [],
   "source": []
  },
  {
   "cell_type": "code",
   "execution_count": null,
   "metadata": {},
   "outputs": [],
   "source": []
  },
  {
   "cell_type": "code",
   "execution_count": null,
   "metadata": {},
   "outputs": [],
   "source": []
  }
 ],
 "metadata": {
  "kernelspec": {
   "display_name": "Python 3",
   "language": "python",
   "name": "python3"
  },
  "language_info": {
   "codemirror_mode": {
    "name": "ipython",
    "version": 3
   },
   "file_extension": ".py",
   "mimetype": "text/x-python",
   "name": "python",
   "nbconvert_exporter": "python",
   "pygments_lexer": "ipython3",
   "version": "3.7.0"
  }
 },
 "nbformat": 4,
 "nbformat_minor": 2
}
