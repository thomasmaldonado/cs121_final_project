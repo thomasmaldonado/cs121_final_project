{
 "cells": [
  {
   "cell_type": "markdown",
   "metadata": {},
   "source": [
    "Class for NAND-CIRC programming language"
   ]
  },
  {
   "cell_type": "code",
   "execution_count": 246,
   "metadata": {},
   "outputs": [],
   "source": [
    "from math import log, floor"
   ]
  },
  {
   "cell_type": "code",
   "execution_count": 247,
   "metadata": {},
   "outputs": [],
   "source": [
    "def int2bin(n, num_bits = None, least_sig_first = True):\n",
    "        if num_bits == None:\n",
    "            if n == 0:\n",
    "                return '0'\n",
    "            else:\n",
    "                num_bits = floor(log(n, 2) + 1)\n",
    "        s = bin(n)[2:]\n",
    "        len_s = len(s)\n",
    "        if len_s > num_bits:\n",
    "            raise Exception('Decimal {} cannot be represented with {} bits'.format(n, num_bits))\n",
    "        elif len_s < num_bits:\n",
    "            s = '0'*(num_bits - len_s) + s\n",
    "        if least_sig_first:\n",
    "            return ''.join(reversed(s))\n",
    "        else:\n",
    "            return s"
   ]
  },
  {
   "cell_type": "code",
   "execution_count": 274,
   "metadata": {},
   "outputs": [],
   "source": [
    "class NAND_CIRC:\n",
    "    def __init__(self, num_inputs, num_outputs):\n",
    "        self.num_inputs = num_inputs\n",
    "        self.num_outputs = num_outputs\n",
    "        self.program = []\n",
    "    def num_vars(self):\n",
    "        max_var = self.num_inputs + self.num_outputs - 1\n",
    "        for elt in self.program:\n",
    "            out, in0, in1 = elt\n",
    "            if out > max_var:\n",
    "                max_var = out\n",
    "        return max_var + 1\n",
    "    def var_length(self):\n",
    "        return len(int2bin(self.num_vars() - 1))\n",
    "    def circ2str(self):\n",
    "        var_len = self.var_length()\n",
    "        prefix = ''\n",
    "        for char in int2bin(var_len):\n",
    "            prefix += 2*char\n",
    "        s = prefix + '01'\n",
    "        s += int2bin(self.num_inputs, var_len)\n",
    "        s += int2bin(self.num_outputs, var_len)\n",
    "        for triple in self.program:\n",
    "            a, b, c = triple\n",
    "            s += int2bin(a, var_len)\n",
    "            s += int2bin(b, var_len)\n",
    "            s += int2bin(c, var_len)\n",
    "        return s"
   ]
  },
  {
   "cell_type": "code",
   "execution_count": 275,
   "metadata": {},
   "outputs": [],
   "source": [
    "X = NAND_CIRC(3,1)"
   ]
  },
  {
   "cell_type": "code",
   "execution_count": 276,
   "metadata": {},
   "outputs": [],
   "source": [
    "X.program = [(3,0,1), (3, 0, 2)]"
   ]
  },
  {
   "cell_type": "code",
   "execution_count": 277,
   "metadata": {},
   "outputs": [
    {
     "data": {
      "text/plain": [
       "4"
      ]
     },
     "execution_count": 277,
     "metadata": {},
     "output_type": "execute_result"
    }
   ],
   "source": [
    "X.num_vars()"
   ]
  },
  {
   "cell_type": "code",
   "execution_count": 278,
   "metadata": {},
   "outputs": [
    {
     "data": {
      "text/plain": [
       "2"
      ]
     },
     "execution_count": 278,
     "metadata": {},
     "output_type": "execute_result"
    }
   ],
   "source": [
    "X.var_length()"
   ]
  },
  {
   "cell_type": "code",
   "execution_count": 279,
   "metadata": {},
   "outputs": [
    {
     "data": {
      "text/plain": [
       "'11'"
      ]
     },
     "execution_count": 279,
     "metadata": {},
     "output_type": "execute_result"
    }
   ],
   "source": [
    "'1'*2"
   ]
  },
  {
   "cell_type": "code",
   "execution_count": 280,
   "metadata": {},
   "outputs": [
    {
     "data": {
      "text/plain": [
       "'0011011110110010110001'"
      ]
     },
     "execution_count": 280,
     "metadata": {},
     "output_type": "execute_result"
    }
   ],
   "source": [
    "X.circ2str()"
   ]
  },
  {
   "cell_type": "code",
   "execution_count": 281,
   "metadata": {},
   "outputs": [
    {
     "data": {
      "text/plain": [
       "'01'"
      ]
     },
     "execution_count": 281,
     "metadata": {},
     "output_type": "execute_result"
    }
   ],
   "source": [
    "int2bin(2)"
   ]
  },
  {
   "cell_type": "code",
   "execution_count": 282,
   "metadata": {},
   "outputs": [
    {
     "data": {
      "text/plain": [
       "'010001'"
      ]
     },
     "execution_count": 282,
     "metadata": {},
     "output_type": "execute_result"
    }
   ],
   "source": [
    "int2bin(2**5+2, 6)"
   ]
  },
  {
   "cell_type": "code",
   "execution_count": 283,
   "metadata": {},
   "outputs": [
    {
     "data": {
      "text/plain": [
       "'0001'"
      ]
     },
     "execution_count": 283,
     "metadata": {},
     "output_type": "execute_result"
    }
   ],
   "source": [
    "int2bin(8)"
   ]
  },
  {
   "cell_type": "code",
   "execution_count": 284,
   "metadata": {},
   "outputs": [
    {
     "name": "stdout",
     "output_type": "stream",
     "text": [
      "00000\n",
      "10000\n",
      "01000\n",
      "11000\n",
      "00100\n",
      "10100\n",
      "01100\n",
      "11100\n",
      "00010\n",
      "10010\n",
      "01010\n",
      "11010\n",
      "00110\n",
      "10110\n",
      "01110\n",
      "11110\n",
      "00001\n",
      "10001\n",
      "01001\n",
      "11001\n",
      "00101\n",
      "10101\n",
      "01101\n",
      "11101\n",
      "00011\n",
      "10011\n",
      "01011\n",
      "11011\n",
      "00111\n",
      "10111\n",
      "01111\n",
      "11111\n"
     ]
    }
   ],
   "source": [
    "for i in range(32):\n",
    "    print(int2bin(i, 5))"
   ]
  },
  {
   "cell_type": "code",
   "execution_count": null,
   "metadata": {},
   "outputs": [],
   "source": []
  },
  {
   "cell_type": "code",
   "execution_count": null,
   "metadata": {},
   "outputs": [],
   "source": []
  }
 ],
 "metadata": {
  "kernelspec": {
   "display_name": "Python 3",
   "language": "python",
   "name": "python3"
  },
  "language_info": {
   "codemirror_mode": {
    "name": "ipython",
    "version": 3
   },
   "file_extension": ".py",
   "mimetype": "text/x-python",
   "name": "python",
   "nbconvert_exporter": "python",
   "pygments_lexer": "ipython3",
   "version": "3.7.0"
  }
 },
 "nbformat": 4,
 "nbformat_minor": 2
}
